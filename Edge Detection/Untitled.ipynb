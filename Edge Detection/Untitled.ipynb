{
 "cells": [
  {
   "cell_type": "code",
   "execution_count": 1,
   "id": "4512f75c-bccf-4ff3-9f54-6f9fa908108d",
   "metadata": {},
   "outputs": [],
   "source": [
    "import cv2\n",
    "import os"
   ]
  },
  {
   "cell_type": "code",
   "execution_count": 2,
   "id": "c648e5bb-8492-4b98-a32d-0eb0da16cc99",
   "metadata": {},
   "outputs": [],
   "source": [
    "from matplotlib import pyplot as plt"
   ]
  },
  {
   "cell_type": "code",
   "execution_count": 7,
   "id": "c268bce4-0805-41e7-881d-95c16e872987",
   "metadata": {},
   "outputs": [],
   "source": [
    "IMG_PATH = os.path.join('test.jpg')"
   ]
  },
  {
   "cell_type": "code",
   "execution_count": 8,
   "id": "aa18b3c9-f05e-4df0-95d1-56435d89b4fe",
   "metadata": {},
   "outputs": [],
   "source": [
    "img = cv2.imread(IMG_PATH)"
   ]
  },
  {
   "cell_type": "code",
   "execution_count": 38,
   "id": "3bf3679d-9e74-4a6a-9dae-edbe6e00796a",
   "metadata": {},
   "outputs": [],
   "source": [
    "#Apply Filters do help processing edges\n",
    "grayscale = cv2.cvtColor(img, cv2.COLOR_BGR2GRAY)\n",
    "blur = cv2.GaussianBlur(grayscale, (5,5), 0)\n",
    "canny = cv2.Canny(blur, threshold1 = 80, threshold2 = 80)\n",
    "\n"
   ]
  },
  {
   "cell_type": "code",
   "execution_count": 39,
   "id": "160f7000-546b-4209-830c-2e19afa36d2f",
   "metadata": {},
   "outputs": [],
   "source": [
    "\n",
    "#Resizing image\n",
    "resized_img = cv2.resize(canny, (int(img.shape[1]/3),int(img.shape[0]/3)))\n",
    "#Show resized image\n",
    "cv2.imshow('Frame View', resized_img)\n",
    "cv2.waitKey(0)\n",
    "cv2.destroyAllWindows()"
   ]
  },
  {
   "cell_type": "code",
   "execution_count": null,
   "id": "07f3cafa-5e36-4bbd-a48d-85e6ed00dd1e",
   "metadata": {},
   "outputs": [],
   "source": []
  }
 ],
 "metadata": {
  "kernelspec": {
   "display_name": "Python 3 (ipykernel)",
   "language": "python",
   "name": "python3"
  },
  "language_info": {
   "codemirror_mode": {
    "name": "ipython",
    "version": 3
   },
   "file_extension": ".py",
   "mimetype": "text/x-python",
   "name": "python",
   "nbconvert_exporter": "python",
   "pygments_lexer": "ipython3",
   "version": "3.9.12"
  }
 },
 "nbformat": 4,
 "nbformat_minor": 5
}
