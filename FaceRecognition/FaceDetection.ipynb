{
 "cells": [
  {
   "cell_type": "code",
   "execution_count": 1,
   "id": "58011503-bf35-4d1b-90a1-1b330b16316c",
   "metadata": {},
   "outputs": [],
   "source": [
    "#!pip install labelme tensorflow \n",
    "#tensorflow-gpu opencv-python matplotlib albumentations"
   ]
  },
  {
   "cell_type": "code",
   "execution_count": 2,
   "id": "b74b7917-a302-4ba3-bf29-855366b2ed4f",
   "metadata": {},
   "outputs": [],
   "source": [
    "import os\n",
    "import time\n",
    "import uuid\n",
    "import cv2"
   ]
  },
  {
   "cell_type": "code",
   "execution_count": 3,
   "id": "5255038a-72a8-48df-bd40-a94abbfaf87c",
   "metadata": {},
   "outputs": [],
   "source": [
    "IMAGES_PATH = os.path.join('data','images')\n",
    "number_images = 30"
   ]
  },
  {
   "cell_type": "code",
   "execution_count": 4,
   "id": "acbb6e16-d11b-4490-9b2a-45b0aaabd1d8",
   "metadata": {},
   "outputs": [
    {
     "data": {
      "text/plain": [
       "\"cap = cv2.VideoCapture(0)\\nfor imgnum in range(number_images):\\n    print('Collecting image{}'.format(imgnum))\\n    ret,frame = cap.read()\\n    imgname = os.path.join(IMAGES_PATH, f'{str(uuid.uuid1())}.jpg')\\n    cv2.imwrite(imgname, frame)\\n    cv2.imshow('frame',frame)\\n    time.sleep(0.5)\\n\\n    if cv2.waitKey(1) & 0xFF == ord('q'):\\n        break\\ncap.release()\\ncv2.destroyAllWindows()\\n\""
      ]
     },
     "execution_count": 4,
     "metadata": {},
     "output_type": "execute_result"
    }
   ],
   "source": [
    "'''cap = cv2.VideoCapture(0)\n",
    "for imgnum in range(number_images):\n",
    "    print('Collecting image{}'.format(imgnum))\n",
    "    ret,frame = cap.read()\n",
    "    imgname = os.path.join(IMAGES_PATH, f'{str(uuid.uuid1())}.jpg')\n",
    "    cv2.imwrite(imgname, frame)\n",
    "    cv2.imshow('frame',frame)\n",
    "    time.sleep(0.5)\n",
    "\n",
    "    if cv2.waitKey(1) & 0xFF == ord('q'):\n",
    "        break\n",
    "cap.release()\n",
    "cv2.destroyAllWindows()\n",
    "'''"
   ]
  },
  {
   "cell_type": "code",
   "execution_count": 5,
   "id": "ae77082d-97d6-4137-af40-6d8062a64821",
   "metadata": {},
   "outputs": [],
   "source": [
    "#!labelme"
   ]
  },
  {
   "cell_type": "code",
   "execution_count": 6,
   "id": "36b72175-a48c-43b8-a000-a7d02ac1b72f",
   "metadata": {},
   "outputs": [],
   "source": [
    "import tensorflow as tf\n",
    "import json\n",
    "import numpy as np\n",
    "from matplotlib import pyplot as plt"
   ]
  },
  {
   "cell_type": "code",
   "execution_count": 7,
   "id": "80f14d30-b26b-4042-b6d8-0b5d8385a642",
   "metadata": {},
   "outputs": [],
   "source": [
    "# To Avoid OOM errors on exagerated GPU Memory Consumption Growth\n",
    "gpus = tf.config.experimental.list_physical_devices('GPU')\n",
    "for gpu in gpus:\n",
    "    tf.config.experimental.set_memory_growth(gpu,True)"
   ]
  },
  {
   "cell_type": "code",
   "execution_count": 9,
   "id": "72f272cf-133f-4b4a-bbdb-9b0e84a4fd56",
   "metadata": {},
   "outputs": [
    {
     "data": {
      "text/plain": [
       "[]"
      ]
     },
     "execution_count": 9,
     "metadata": {},
     "output_type": "execute_result"
    }
   ],
   "source": [
    "tf.config.list_physical_devices('GPU')"
   ]
  },
  {
   "cell_type": "code",
   "execution_count": null,
   "id": "98e5a454-fd46-4f8e-8229-948f9f792e3b",
   "metadata": {},
   "outputs": [],
   "source": []
  },
  {
   "cell_type": "code",
   "execution_count": null,
   "id": "59aeb76e-cc95-4ed5-82f7-824c69ed3f0f",
   "metadata": {},
   "outputs": [],
   "source": []
  }
 ],
 "metadata": {
  "kernelspec": {
   "display_name": "Python 3 (ipykernel)",
   "language": "python",
   "name": "python3"
  },
  "language_info": {
   "codemirror_mode": {
    "name": "ipython",
    "version": 3
   },
   "file_extension": ".py",
   "mimetype": "text/x-python",
   "name": "python",
   "nbconvert_exporter": "python",
   "pygments_lexer": "ipython3",
   "version": "3.9.13"
  }
 },
 "nbformat": 4,
 "nbformat_minor": 5
}
